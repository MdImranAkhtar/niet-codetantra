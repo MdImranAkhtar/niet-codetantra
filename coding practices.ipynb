{
 "cells": [
  {
   "cell_type": "markdown",
   "id": "75ce2a4d",
   "metadata": {},
   "source": [
    "##### Write a Python program to add and sub two numbers using the + and - operator."
   ]
  },
  {
   "cell_type": "code",
   "execution_count": null,
   "id": "fbace41f",
   "metadata": {},
   "outputs": [],
   "source": []
  },
  {
   "cell_type": "code",
   "execution_count": null,
   "id": "967ae4cb",
   "metadata": {},
   "outputs": [],
   "source": []
  },
  {
   "cell_type": "code",
   "execution_count": null,
   "id": "4cd05990",
   "metadata": {},
   "outputs": [],
   "source": [
    "a = 10\n",
    "b = 20\n",
    "print('c',a+b)\n",
    "\n",
    "\n",
    "num1 = 15\n",
    "num2 = 12\n",
    "sum = num1 + num2\n",
    "print(\"Sum of\", num1, \"and\", num2 , \"is\", sum)"
   ]
  },
  {
   "cell_type": "code",
   "execution_count": null,
   "id": "7aeb3fe3",
   "metadata": {},
   "outputs": [],
   "source": [
    "a = 30\n",
    "b = 20\n",
    "print('c',a-b)\n",
    "\n",
    "\n",
    "num1 = 15\n",
    "num2 = 12\n",
    "sub = num1 - num2\n",
    "print(\"Sub of\", num1, \"and\", num2 , \"is\", sub)"
   ]
  },
  {
   "cell_type": "markdown",
   "id": "4ab3a459",
   "metadata": {},
   "source": [
    "# Write a Python program to find the remainder of a division using the % operator."
   ]
  },
  {
   "cell_type": "code",
   "execution_count": null,
   "id": "36913d40",
   "metadata": {},
   "outputs": [],
   "source": [
    "a = 30\n",
    "b = 20\n",
    "print('c',a-b)\n",
    "\n",
    "num1 = 31\n",
    "num2 = 8\n",
    "remainder = num1 % num2\n",
    "print(\"remainder of\", num1, \"and\", num2 , \"is\", remainder)"
   ]
  },
  {
   "cell_type": "markdown",
   "id": "9dbd92d8",
   "metadata": {},
   "source": [
    "# OPERATOR"
   ]
  },
  {
   "cell_type": "markdown",
   "id": "ab663998",
   "metadata": {},
   "source": [
    "# arithmetic"
   ]
  },
  {
   "cell_type": "code",
   "execution_count": null,
   "id": "7fbb906f",
   "metadata": {},
   "outputs": [],
   "source": [
    "a = 20\n",
    "b = 3\n",
    "print(a+b)\n",
    "print(a-b)\n",
    "print(a*b)\n",
    "print(a/b)\n",
    "print(a%b)   #remainder\n",
    "print(a//b)  #eliminate floar value\n",
    "print(a**b)  #power"
   ]
  },
  {
   "cell_type": "markdown",
   "id": "4d278465",
   "metadata": {},
   "source": [
    "# assignment "
   ]
  },
  {
   "cell_type": "code",
   "execution_count": null,
   "id": "4624a7cb",
   "metadata": {},
   "outputs": [],
   "source": [
    "a = 20\n",
    "a += 10\n",
    "print(a)\n",
    "\n",
    "b = 20\n",
    "b -= 10\n",
    "print(b)\n",
    "\n",
    "c = 20\n",
    "c *= 10\n",
    "print(c)\n",
    "\n",
    "d = 20\n",
    "d /= 10\n",
    "print(d)\n",
    "\n",
    "e = 20\n",
    "e %= 10\n",
    "print(e)\n",
    "\n",
    "f = 20\n",
    "f //= 10\n",
    "print(f)\n",
    "\n",
    "g = 20\n",
    "g **= 10\n",
    "print(g)\n",
    "\n",
    "h = 20\n",
    "h &= 10\n",
    "print(h)\n",
    "\n",
    "i = 20\n",
    "i |= 10\n",
    "print(i)\n",
    "\n",
    "j = 20\n",
    "j ^= 10\n",
    "print(j)"
   ]
  },
  {
   "cell_type": "markdown",
   "id": "5cfac30a",
   "metadata": {},
   "source": [
    "# Relational/comparison"
   ]
  },
  {
   "cell_type": "code",
   "execution_count": null,
   "id": "188d3298",
   "metadata": {},
   "outputs": [],
   "source": [
    "a = 10\n",
    "b = 20\n",
    "print(\"a > b is\", a>b)\n",
    "print(\"a > b is\", a>=b)\n",
    "print(\"a > b is\", a<b)\n",
    "print(\"a > b is\", a<=b)\n",
    "print(\"a == b is\", a==b)\n",
    "print(\"a == b is\", a!=b)"
   ]
  },
  {
   "cell_type": "code",
   "execution_count": null,
   "id": "dc698f2e",
   "metadata": {},
   "outputs": [],
   "source": [
    "a = 10\n",
    "b = 20\n",
    "if (a>b):\n",
    "    print(\"a is greater than b\")\n",
    "else:\n",
    "    print(\"b is greater than a\")"
   ]
  },
  {
   "cell_type": "markdown",
   "id": "11281407",
   "metadata": {},
   "source": [
    "# DATA TYPE "
   ]
  },
  {
   "cell_type": "code",
   "execution_count": null,
   "id": "aa167729",
   "metadata": {},
   "outputs": [],
   "source": [
    "#numeric\n",
    "a = 5\n",
    "print(a,type(a))\n",
    "b = 5.5\n",
    "print(b, type(b))\n",
    "c = 5+6j\n",
    "print(c, type(c), id(c))"
   ]
  },
  {
   "cell_type": "code",
   "execution_count": null,
   "id": "3cd669bd",
   "metadata": {},
   "outputs": [],
   "source": [
    "#string\n",
    "A = \"IMRAN AKHTAR\"\n",
    "(A, type(A))"
   ]
  },
  {
   "cell_type": "code",
   "execution_count": null,
   "id": "f062f29a",
   "metadata": {},
   "outputs": [],
   "source": [
    "A = '''Md \n",
    "imran \n",
    "akhtar\n",
    "'''\n",
    "print(A, type(A))"
   ]
  },
  {
   "cell_type": "code",
   "execution_count": null,
   "id": "5f499dd5",
   "metadata": {},
   "outputs": [],
   "source": [
    "a='10'\n",
    "print(a,type(a))\n",
    "\n",
    "\n",
    "a=10\n",
    "print(a,type(a))\n"
   ]
  },
  {
   "cell_type": "code",
   "execution_count": null,
   "id": "b1290028",
   "metadata": {},
   "outputs": [],
   "source": [
    "#list\n",
    "#list is mutable(chngeble) data type\n",
    "l=[10,'imran',5.5]\n",
    "#ex\n",
    "l[2]=10\n",
    "print(l, type(l))"
   ]
  },
  {
   "cell_type": "code",
   "execution_count": null,
   "id": "0795e454",
   "metadata": {},
   "outputs": [],
   "source": [
    "#tuple \n",
    "#tuple is immutable data type (its fast accessing as compare to list)\n",
    "t=(10,28,'hello')\n",
    "#t[1]=16\n",
    "#t=(10)\n",
    "print(t,type(t))"
   ]
  },
  {
   "cell_type": "code",
   "execution_count": null,
   "id": "53b3f9d1",
   "metadata": {},
   "outputs": [],
   "source": [
    "#dictionary(mutable data type)\n",
    "d={\n",
    "    'course_name':'Python',\n",
    "    'course_duration':'2 months'\n",
    "}\n",
    "print(d['course_name'])\n",
    "print(d,type(d))"
   ]
  },
  {
   "cell_type": "code",
   "execution_count": null,
   "id": "82141a71",
   "metadata": {},
   "outputs": [],
   "source": [
    "#set(immutable data type)\n",
    "\n",
    "s={10,52,62,62,'imran','imran'}\n",
    "print(s,type(s))"
   ]
  },
  {
   "cell_type": "code",
   "execution_count": null,
   "id": "a61b3507",
   "metadata": {},
   "outputs": [],
   "source": [
    "#user input and type casting\n",
    "\n",
    "#input()\n",
    "\n",
    "a = input(\"Enter a number\")\n",
    "b = input(\"Enter a number\")\n",
    "print(a+b)\n",
    "#output does not add bcz its string \n",
    "\n",
    "\n",
    "#type casting\n",
    "a = int(input(\"Enter a number\"))\n",
    "b = int(input(\"Enter a number\"))\n",
    "print(a+b)"
   ]
  },
  {
   "cell_type": "code",
   "execution_count": null,
   "id": "3f205be4",
   "metadata": {},
   "outputs": [],
   "source": [
    "#type casting\n",
    "a = int(input(\"Enter a number\"))\n",
    "b = int(input(\"Enter a number\"))\n",
    "print(a+b)"
   ]
  },
  {
   "cell_type": "code",
   "execution_count": null,
   "id": "2707fcb6",
   "metadata": {},
   "outputs": [],
   "source": [
    "#type casting\n",
    "a = float(input(\"Enter a number\"))\n",
    "b = float(input(\"Enter a number\"))\n",
    "print(a+b)\n",
    "\n",
    "a = float(input(\"Enter a number\"))\n",
    "b = float(input(\"Enter a number\"))\n",
    "print(a+b)"
   ]
  },
  {
   "cell_type": "code",
   "execution_count": null,
   "id": "87e391ca",
   "metadata": {},
   "outputs": [],
   "source": [
    "#eval()\n",
    "#type casting\n",
    "a = eval(input(\"Enter a number\"))\n",
    "b = eval(input(\"Enter a number\"))\n",
    "print(a+b)\n",
    "\n",
    "a = eval(input(\"Enter a number\"))\n",
    "b = eval(input(\"Enter a number\"))\n",
    "print(a+b)\n",
    "\n",
    "\n",
    "a = eval(input(\"Enter a number\"))\n",
    "b = eval(input(\"Enter a number\"))\n",
    "print(a+b)"
   ]
  },
  {
   "cell_type": "code",
   "execution_count": null,
   "id": "8864132a",
   "metadata": {},
   "outputs": [],
   "source": [
    "Java:\n",
    "\n",
    "public class Add\n",
    "{\n",
    "    public stattic void main(String[]args)\n",
    "    {\n",
    "        int a,b:\n",
    "        a = 10;\n",
    "        b = 20;\n",
    "        System.Out.Println(\"the sum:\"+(a+b));\n",
    "    }\n",
    "}\n",
    "\n",
    "C:\n",
    "    \n",
    "#include<stdio.h\n",
    "void main()\n",
    "{\n",
    "    int a,b;\n",
    "    a = 10;\n",
    "    b = 20;\n",
    "    printf(\"the sum:%d\",(a+b));\n",
    "}\n",
    "\n",
    "Python:\n",
    "a = 10\n",
    "b =20\n",
    "print(\"the sum:\", a+b)"
   ]
  },
  {
   "cell_type": "code",
   "execution_count": null,
   "id": "1b5d66ac",
   "metadata": {},
   "outputs": [],
   "source": [
    "if 5 > 2:\n",
    "print(\"Five is greater than two!\")"
   ]
  },
  {
   "cell_type": "code",
   "execution_count": null,
   "id": "8d561505",
   "metadata": {},
   "outputs": [],
   "source": [
    "a = 10\n",
    "b = 20\n",
    "print('a') #string\n",
    "print(a,b)\n",
    "print(id(a), id(b)) # memory location\n",
    "print('a',b)\n",
    "print(a+b)"
   ]
  },
  {
   "cell_type": "markdown",
   "id": "4b4cab89",
   "metadata": {},
   "source": [
    "###### a = 10\n",
    "b = 20\n",
    "c =a<b\n",
    "print(c)"
   ]
  },
  {
   "cell_type": "code",
   "execution_count": null,
   "id": "a5b1181f",
   "metadata": {},
   "outputs": [],
   "source": [
    "x = [10,20,30,40]\n",
    "    b = bytes(x)\n",
    "    type(b)\n",
    "    print(b[0])\n",
    "    print(b[-1])\n",
    "        for i in range:\n",
    "print(i)"
   ]
  },
  {
   "cell_type": "code",
   "execution_count": null,
   "id": "3c03a20d",
   "metadata": {},
   "outputs": [],
   "source": [
    "x = [10, 20, 30, 40]\n",
    "b = bytes(x)\n",
    "print(type(b))\n",
    "# print(b[0])\n",
    "# print(b[-1])\n",
    "\n",
    "for i in b:\n",
    "    print(i)"
   ]
  },
  {
   "cell_type": "code",
   "execution_count": null,
   "id": "4874c444",
   "metadata": {},
   "outputs": [],
   "source": [
    "x = [10, 20, 30, 40]\n",
    "b = bytearray(x)\n",
    "for i in b:\n",
    "    print(i)\n",
    "b[0] = 100\n",
    "print(\"#########################################\")\n",
    "for i in b:\n",
    "    print(i)"
   ]
  },
  {
   "cell_type": "code",
   "execution_count": null,
   "id": "61441f99",
   "metadata": {},
   "outputs": [],
   "source": [
    "#generate number from 0 to 9\n",
    "r = range(10)\n",
    "for i in r:\n",
    "    print(1)"
   ]
  },
  {
   "cell_type": "markdown",
   "id": "99c11d8b",
   "metadata": {},
   "source": [
    "# Form3: - range(10,20,2) "
   ]
  },
  {
   "cell_type": "code",
   "execution_count": null,
   "id": "7b867808",
   "metadata": {},
   "outputs": [],
   "source": [
    "r = range(10,20,2)\n",
    "for i in r:\n",
    "    print(i)\n"
   ]
  },
  {
   "cell_type": "code",
   "execution_count": null,
   "id": "a1a4f822",
   "metadata": {},
   "outputs": [],
   "source": [
    "string = \"10\"\n",
    "number = 15\n",
    "new_string = int(string)\n",
    "sum = new_string+ number\n",
    "print(sum)"
   ]
  },
  {
   "cell_type": "code",
   "execution_count": null,
   "id": "af1b5ab6",
   "metadata": {},
   "outputs": [],
   "source": [
    "string = \"10\"\n",
    "number = 15\n",
    "new_string = int(string)\n",
    "sum = new_string+ number\n",
    "print(sum)"
   ]
  },
  {
   "cell_type": "code",
   "execution_count": null,
   "id": "2e09e8e8",
   "metadata": {},
   "outputs": [],
   "source": [
    "a=15\n",
    "b=7\n",
    "print(bin(a))\n",
    "print(bin(b))\n",
    "print(bin(a&b)) # 1 and 1 = 1 , other is 0\n",
    "print(bin(a|b)) # any operand 1 is 1, other is 0\n",
    "print(bin(a^b)) # 1+1, 0+0 = 1 but ^ function reverse the reselt"
   ]
  },
  {
   "cell_type": "code",
   "execution_count": null,
   "id": "7b7f1a28",
   "metadata": {},
   "outputs": [],
   "source": [
    "a = input(\"enter a number\")\n",
    "b = int(a)\n",
    "if b % 2 == 0:\n",
    "    print(b,\"even number\")"
   ]
  },
  {
   "cell_type": "code",
   "execution_count": null,
   "id": "03ba22f0",
   "metadata": {},
   "outputs": [],
   "source": [
    "a = input(\"enter a number\")\n",
    "b = int(a)\n",
    "if b % 2 == 0:\n",
    "    print(b,\"even number\")\n",
    "else:\n",
    "    print(b,\"odd number\")"
   ]
  },
  {
   "cell_type": "code",
   "execution_count": null,
   "id": "ba759380",
   "metadata": {},
   "outputs": [],
   "source": [
    "a = 10\n",
    "print(a)"
   ]
  },
  {
   "cell_type": "code",
   "execution_count": null,
   "id": "fa6f7f5f",
   "metadata": {},
   "outputs": [],
   "source": [
    "marks = int(input(\"enter the student marks\"))\n",
    "if marks >= 60:\n",
    "    print(\"1st div\")\n",
    "elif marks >= 60:\n",
    "    print(\"2nd div\")\n",
    "elif marks >= 50:\n",
    "    print(\"3rd div\")\n",
    "else:\n",
    "    print(\"fail\")"
   ]
  },
  {
   "cell_type": "code",
   "execution_count": null,
   "id": "ebb1d5f3",
   "metadata": {},
   "outputs": [],
   "source": [
    "marks = int(input(\"enter the student marks\"))\n",
    "if marks >= 60:\n",
    "    print(\"1st div\")\n",
    "if marks >= 60:\n",
    "    print(\"2nd div\")\n",
    "if marks >= 50:\n",
    "    print(\"3rd div\")\n",
    "else:\n",
    "    print(\"fail\")"
   ]
  },
  {
   "cell_type": "code",
   "execution_count": null,
   "id": "21498830",
   "metadata": {},
   "outputs": [],
   "source": [
    "for n in range(5):\n",
    "    print(n)\n",
    "    \n",
    "print(\"##############################\")\n",
    "\n",
    "for a in range(1,5):\n",
    "    print(a)  \n",
    "    \n",
    "print(\"##############################\")\n",
    "\n",
    "for b in range(1,6,2):\n",
    "    print(b)  "
   ]
  },
  {
   "cell_type": "code",
   "execution_count": null,
   "id": "744eefb4",
   "metadata": {},
   "outputs": [],
   "source": [
    "for i in range (2,21,2):\n",
    "    print(i)\n",
    "    \n",
    "print(\"######################################\")\n",
    "\n",
    "for i in range (1,11):\n",
    "    print(2*i)\n",
    "    "
   ]
  },
  {
   "cell_type": "code",
   "execution_count": null,
   "id": "1e1fd39f",
   "metadata": {},
   "outputs": [],
   "source": [
    "for i in range (1,11):\n",
    "    print(\"2*\" ,i ,\"=\" ,2*i)"
   ]
  },
  {
   "cell_type": "code",
   "execution_count": null,
   "id": "62cd2818",
   "metadata": {},
   "outputs": [],
   "source": [
    "for i in range (11,0,-1):\n",
    "    print(i)"
   ]
  },
  {
   "cell_type": "code",
   "execution_count": null,
   "id": "d62943d8",
   "metadata": {},
   "outputs": [],
   "source": [
    "print(a)"
   ]
  },
  {
   "cell_type": "code",
   "execution_count": null,
   "id": "d71f98a9",
   "metadata": {},
   "outputs": [],
   "source": [
    "for i in range (11,12):\n",
    "    print(i)"
   ]
  },
  {
   "cell_type": "code",
   "execution_count": null,
   "id": "d3bbf754",
   "metadata": {},
   "outputs": [],
   "source": [
    "i = 2\n",
    "while i<=10:\n",
    "    print(i)\n",
    "    i=i+1"
   ]
  },
  {
   "cell_type": "code",
   "execution_count": null,
   "id": "0ba2216b",
   "metadata": {},
   "outputs": [],
   "source": [
    "i = 1\n",
    "while i<=10:\n",
    "    print(i)\n",
    "    i=i+1\n",
    "print(i)"
   ]
  },
  {
   "cell_type": "code",
   "execution_count": null,
   "id": "ba571ba1",
   "metadata": {},
   "outputs": [],
   "source": [
    "a = 10\n",
    "a = \"imran\"\n",
    "print(a)"
   ]
  },
  {
   "cell_type": "code",
   "execution_count": null,
   "id": "3e88a0b6",
   "metadata": {},
   "outputs": [],
   "source": [
    "first_name = \"imran\"\n",
    "last_name = \"akhtar\"\n",
    "print(\"first_name is {} and last_name is {}\",first_name,last_name)"
   ]
  },
  {
   "cell_type": "code",
   "execution_count": null,
   "id": "7afd187a",
   "metadata": {},
   "outputs": [],
   "source": [
    "first_name = \"imran\"\n",
    "last_name = \"akhtar\"\n",
    "print(\"first_name is {} and last_name is {}\".format(first_name,last_name))"
   ]
  },
  {
   "cell_type": "code",
   "execution_count": null,
   "id": "9e5973f4",
   "metadata": {},
   "outputs": [],
   "source": [
    "first_name = \"imran\"\n",
    "last_name = \"akhtar\"\n",
    "print(\"first_name is {1} and last_name is {0}\".format(first_name,last_name))"
   ]
  },
  {
   "cell_type": "code",
   "execution_count": null,
   "id": "239f58a7",
   "metadata": {},
   "outputs": [],
   "source": [
    "first_name = \"imran\"\n",
    "last_name = \"akhtar\"\n",
    "print(\"first_name is {} and last_name is {}\".format(last_name,first_name))"
   ]
  },
  {
   "cell_type": "code",
   "execution_count": null,
   "id": "fb4b63f0",
   "metadata": {},
   "outputs": [],
   "source": [
    "first_name = \"imran\"\n",
    "last_name = \"akhtar\"\n",
    "print(\"first_name is {1} and last_name is {0}\".format(last_name,first_name))"
   ]
  },
  {
   "cell_type": "code",
   "execution_count": null,
   "id": "6f5f2feb",
   "metadata": {},
   "outputs": [],
   "source": [
    "age = int(input(\"enter your age     \"))\n",
    "\n",
    "if age < 18:\n",
    "    print(\"Minneeeerrr age\")\n",
    "    if age <15:\n",
    "        print(\"yoou are in school\")\n",
    "    else:\n",
    "        print(\"you are in college\")\n",
    "elif age>=18 and age<30:\n",
    "    print(\"youth\")\n",
    "elif age >=30 and age<50:\n",
    "    print(\"mid senior cit....\")\n",
    "else:\n",
    "    print(\"senior cit.........\")"
   ]
  },
  {
   "cell_type": "code",
   "execution_count": null,
   "id": "27322b5f",
   "metadata": {},
   "outputs": [],
   "source": [
    "age = int(input(\"eeenteeerr yoouurrr age\"))\n",
    "\n",
    "if age<"
   ]
  },
  {
   "cell_type": "code",
   "execution_count": null,
   "id": "1bf371ed",
   "metadata": {},
   "outputs": [],
   "source": [
    "lst=[1,2,3,4,5,6,7,8,9]\n",
    "sum1=0\n",
    "for i in lst:\n",
    "    sum1 = sum1+i\n",
    "print(sum1)"
   ]
  },
  {
   "cell_type": "code",
   "execution_count": null,
   "id": "706b03ec",
   "metadata": {},
   "outputs": [],
   "source": [
    "lst=[1,2,3,4,5,6,7]\n",
    "sum1=0\n",
    "for i in lst:\n",
    "    sum1=sum1+i\n",
    "print(sum1)"
   ]
  },
  {
   "cell_type": "code",
   "execution_count": null,
   "id": "30d18b6f",
   "metadata": {},
   "outputs": [],
   "source": [
    "lst=[1,2,3,4,5,6,7]\n",
    "# even_sum=0\n",
    "# odd_sum=0\n",
    "for i in lst:\n",
    "    if i%2==0:\n",
    "        print(\"even number\", i)\n",
    "    else:\n",
    "        print(\"odd number\",i)"
   ]
  },
  {
   "cell_type": "code",
   "execution_count": null,
   "id": "7b948042",
   "metadata": {},
   "outputs": [],
   "source": [
    "lst=[1,2,3,4,5,6,7]\n",
    "# even_sum=0\n",
    "# odd_sum=0\n",
    "for i in lst:\n",
    "    if i%2==0:\n",
    "        print(\"even number\".format(i))\n",
    "    else:\n",
    "        print(\"odd number\".format(i))"
   ]
  },
  {
   "cell_type": "code",
   "execution_count": null,
   "id": "75e38057",
   "metadata": {},
   "outputs": [],
   "source": [
    "lst=[1,2,3,4,5,6,7]\n",
    "even_sum=0\n",
    "odd_sum=0\n",
    "for i in lst:\n",
    "    if i%2==0:\n",
    "        even_sum=even_sum+i\n",
    "    else:\n",
    "        odd_sum=odd_sum+i\n",
    "        \n",
    "print(\"even sum is {}\".format(even_sum))\n",
    "print(\"odd sum is {}\".format(odd_sum))"
   ]
  },
  {
   "cell_type": "code",
   "execution_count": null,
   "id": "1b6605e5",
   "metadata": {},
   "outputs": [],
   "source": [
    "i = 0\n",
    "even_sum=0\n",
    "odd_sum=0\n",
    "while i <= 10:\n",
    "    if i%2==0:\n",
    "        even_sum=even_sum+i\n",
    "    else:\n",
    "        odd_sum=odd_sum+i\n",
    "    i=i=1\n",
    "print(even_sum,odd_sum)"
   ]
  },
  {
   "cell_type": "code",
   "execution_count": null,
   "id": "35b138a6",
   "metadata": {},
   "outputs": [],
   "source": [
    "i = 0\n",
    "even_sum=0\n",
    "odd_sum=0\n",
    "while i <= 10:\n",
    "    if i%2==0:\n",
    "        even_sum=even_sum+i\n",
    "    else:\n",
    "        odd_sum=odd_sum+i\n",
    "    i=i=1\n",
    "print(even_sum,odd_sum)"
   ]
  },
  {
   "cell_type": "code",
   "execution_count": null,
   "id": "eb48673b",
   "metadata": {},
   "outputs": [],
   "source": [
    "# break\n",
    "\n",
    "x = 1\n",
    "while x<7:\n",
    "    print(x)\n",
    "    x=x+1"
   ]
  },
  {
   "cell_type": "code",
   "execution_count": null,
   "id": "f42a8405",
   "metadata": {},
   "outputs": [],
   "source": [
    "# break\n",
    "\n",
    "x = 1\n",
    "while x<7:\n",
    "    print(x)\n",
    "    if x==4:\n",
    "        break\n",
    "    x=x+1"
   ]
  },
  {
   "cell_type": "code",
   "execution_count": null,
   "id": "4716a3eb",
   "metadata": {},
   "outputs": [],
   "source": [
    "# break\n",
    "\n",
    "x = 1\n",
    "while x<7:\n",
    "    if x==4:\n",
    "        break\n",
    "    print(x)\n",
    "    x=x+1"
   ]
  },
  {
   "cell_type": "code",
   "execution_count": null,
   "id": "07ad0bfa",
   "metadata": {},
   "outputs": [],
   "source": [
    "# continue\n",
    "x = 1\n",
    "while x<7:\n",
    "    x=x+1\n",
    "    if x==4:\n",
    "        continue\n",
    "    print(x)\n",
    "   "
   ]
  },
  {
   "cell_type": "markdown",
   "id": "4f1ae6f5",
   "metadata": {},
   "source": [
    "# string indexing"
   ]
  },
  {
   "cell_type": "code",
   "execution_count": null,
   "id": "c9998638",
   "metadata": {},
   "outputs": [],
   "source": [
    "print('''imran\n",
    "      alakjta''')"
   ]
  },
  {
   "cell_type": "code",
   "execution_count": 16,
   "id": "0b19c863",
   "metadata": {},
   "outputs": [
    {
     "name": "stdout",
     "output_type": "stream",
     "text": [
      "r\n",
      "t\n",
      "h\n",
      " \n",
      "a\n"
     ]
    }
   ],
   "source": [
    "name=(\"imran akhtar\")\n",
    "print(name[-1])\n",
    "print(name[9])\n",
    "print(name[-4])\n",
    "print(name[-7])\n",
    "print(name[10])"
   ]
  },
  {
   "cell_type": "code",
   "execution_count": 17,
   "id": "308de5ab",
   "metadata": {},
   "outputs": [
    {
     "name": "stdout",
     "output_type": "stream",
     "text": [
      "I Lov\n",
      "I Love Coding\n",
      "ILv oig\n",
      "I Love C\n",
      "g\n",
      "I Love Codin\n",
      "gio vLI\n",
      "g\n"
     ]
    }
   ],
   "source": [
    "# slicing\n",
    "a = (\"I Love Coding\")\n",
    "\n",
    "print(a[0:5])\n",
    "\n",
    "print(a[0:])\n",
    "\n",
    "print(a[0::2])\n",
    "# reverce\n",
    "print(a[0:-5])\n",
    "print(a[-1:])\n",
    "print(a[:-1])\n",
    "print(a[-1::-2])\n",
    "print(a[-1:10:-2])"
   ]
  },
  {
   "cell_type": "code",
   "execution_count": 15,
   "id": "6f84e513",
   "metadata": {},
   "outputs": [
    {
     "name": "stdout",
     "output_type": "stream",
     "text": [
      "13\n",
      "I\n",
      " \n",
      "L\n",
      "o\n",
      "v\n",
      "e\n",
      " \n",
      "C\n",
      "o\n",
      "d\n",
      "i\n",
      "n\n",
      "g\n"
     ]
    }
   ],
   "source": [
    "# string iteration\n",
    "\n",
    "a = (\"I Love Coding\")\n",
    "t=len(a)\n",
    "print(t)\n",
    "for i in range(t):\n",
    "    print(a[i])"
   ]
  },
  {
   "cell_type": "code",
   "execution_count": null,
   "id": "655c954e",
   "metadata": {},
   "outputs": [],
   "source": [
    "# string iteration reverce\n",
    "a = (\"I Love Coding\")\n",
    "t=len(a)\n",
    "print(t)\n",
    "for i in range(t-1,-1,-1):\n",
    "    print(a[i])"
   ]
  },
  {
   "cell_type": "code",
   "execution_count": null,
   "id": "2dcd3511",
   "metadata": {},
   "outputs": [],
   "source": [
    "a = (\"I Love Coding\")\n",
    "# t=len(a)\n",
    "print(t)\n",
    "for i in range(len(a)-1,-1,-1):\n",
    "    print(a[i])"
   ]
  },
  {
   "cell_type": "code",
   "execution_count": null,
   "id": "42fde26a",
   "metadata": {},
   "outputs": [],
   "source": [
    "# other method\n",
    "a = (\"I Love Coding\")\n",
    "b=a.upper()\n",
    "for i in b:\n",
    "    print(i)"
   ]
  },
  {
   "cell_type": "code",
   "execution_count": null,
   "id": "de272014",
   "metadata": {},
   "outputs": [],
   "source": [
    "# lower case\n",
    "a = (\"I Love Coding\")\n",
    "n=a.lower()\n",
    "print(n)"
   ]
  },
  {
   "cell_type": "code",
   "execution_count": null,
   "id": "4fce05dc",
   "metadata": {},
   "outputs": [],
   "source": [
    "# upper case\n",
    "a = (\"I Love Coding\")\n",
    "n=a.upper()\n",
    "print(n)"
   ]
  },
  {
   "cell_type": "code",
   "execution_count": null,
   "id": "a99cf545",
   "metadata": {},
   "outputs": [],
   "source": [
    "# title\n",
    "a = (\"i love Coding\")\n",
    "n=a.title()\n",
    "print(n)"
   ]
  },
  {
   "cell_type": "code",
   "execution_count": null,
   "id": "86adce77",
   "metadata": {},
   "outputs": [],
   "source": [
    "# capitalize\n",
    "a = (\"i love Coding\")\n",
    "n=a.capitalize()\n",
    "print(n)"
   ]
  },
  {
   "cell_type": "code",
   "execution_count": null,
   "id": "2fb9aba3",
   "metadata": {},
   "outputs": [],
   "source": [
    "# find\n",
    "a = (\"i love Coding\")\n",
    "print(a.find(\"i\"))"
   ]
  },
  {
   "cell_type": "code",
   "execution_count": null,
   "id": "0558977e",
   "metadata": {},
   "outputs": [],
   "source": [
    "a = (\"i love Coding\")\n",
    "print(a.find(\"i\",1))"
   ]
  },
  {
   "cell_type": "code",
   "execution_count": null,
   "id": "f37f8eb4",
   "metadata": {},
   "outputs": [],
   "source": [
    "a = (\"i love Coding\")\n",
    "print(a.find(\"z\"))"
   ]
  },
  {
   "cell_type": "code",
   "execution_count": null,
   "id": "ecffe423",
   "metadata": {},
   "outputs": [],
   "source": [
    "# index\n",
    "a = (\"i love Coding\")\n",
    "print(a.index(\"e\"))"
   ]
  },
  {
   "cell_type": "code",
   "execution_count": null,
   "id": "9ecec46e",
   "metadata": {},
   "outputs": [],
   "source": [
    "a = (\"i love Coding\")\n",
    "print(a.index(\"a\"))"
   ]
  },
  {
   "cell_type": "code",
   "execution_count": null,
   "id": "630fd98e",
   "metadata": {},
   "outputs": [],
   "source": [
    "# is alpha (true and false based a str only contain alphabets if any number then print false)\n",
    "a = (\"Coding\")\n",
    "print(a.isalpha())"
   ]
  },
  {
   "cell_type": "code",
   "execution_count": null,
   "id": "c370a218",
   "metadata": {},
   "outputs": [],
   "source": [
    "a = (\"Coding123\")\n",
    "print(a.isalpha())"
   ]
  },
  {
   "cell_type": "code",
   "execution_count": null,
   "id": "1f4efebc",
   "metadata": {},
   "outputs": [],
   "source": [
    "a = (\"i love Coding\")\n",
    "print(a.isalpha())"
   ]
  },
  {
   "cell_type": "code",
   "execution_count": null,
   "id": "ce55f3c0",
   "metadata": {},
   "outputs": [],
   "source": [
    "# is alpha (true and false based it contain only digit)\n",
    "a = (\"1233\")\n",
    "print(a.isdigit())"
   ]
  },
  {
   "cell_type": "code",
   "execution_count": null,
   "id": "0d62ccb2",
   "metadata": {},
   "outputs": [],
   "source": [
    "a = (\"i love Coding\")\n",
    "print(a.isdigit())"
   ]
  },
  {
   "cell_type": "code",
   "execution_count": null,
   "id": "0379eb4f",
   "metadata": {},
   "outputs": [],
   "source": [
    "a = (\"i love Coding1233\")\n",
    "print(a.isdigit())"
   ]
  },
  {
   "cell_type": "code",
   "execution_count": null,
   "id": "552992d3",
   "metadata": {},
   "outputs": [],
   "source": [
    "# is alpha (true and false based it contain number and char)\n",
    "a = (\"Coding1233\")\n",
    "print(a.isalnum())"
   ]
  },
  {
   "cell_type": "code",
   "execution_count": null,
   "id": "55701d57",
   "metadata": {},
   "outputs": [],
   "source": [
    "a = (\"12344\")\n",
    "print(a.isalnum())"
   ]
  },
  {
   "cell_type": "code",
   "execution_count": null,
   "id": "81808c6d",
   "metadata": {},
   "outputs": [],
   "source": [
    "a = (\"coding\")\n",
    "print(a.isalnum())"
   ]
  },
  {
   "cell_type": "code",
   "execution_count": null,
   "id": "20547468",
   "metadata": {},
   "outputs": [],
   "source": [
    "a = (\"i love Coding1233\")\n",
    "print(a.isalnum())"
   ]
  },
  {
   "cell_type": "markdown",
   "id": "1f666101",
   "metadata": {},
   "source": [
    "# chr()"
   ]
  },
  {
   "cell_type": "code",
   "execution_count": null,
   "id": "af22fd47",
   "metadata": {},
   "outputs": [],
   "source": [
    "# convert takes in an integer i and converts it to a character c,  so it returns a character string\n",
    "\n",
    "# convert integer 65 to ASCII character (\"A\")\n",
    "\n",
    "y = chr(65)\n",
    "print(type(y),y)"
   ]
  },
  {
   "cell_type": "code",
   "execution_count": null,
   "id": "90ccf099",
   "metadata": {},
   "outputs": [],
   "source": [
    "# this takes a single unicode character(string of lenght) and returns an integer ,so the format is:\n",
    "\n",
    "# convert ASCII unicode character 'A' to 65\n",
    "\n",
    "y = ord(\"A\")\n",
    "print(type(y),y)"
   ]
  },
  {
   "cell_type": "markdown",
   "id": "501b80cf",
   "metadata": {},
   "source": [
    "# format[] function"
   ]
  },
  {
   "cell_type": "code",
   "execution_count": 1,
   "id": "c9fa154d",
   "metadata": {},
   "outputs": [
    {
     "name": "stdout",
     "output_type": "stream",
     "text": [
      "My name is IMRAN AKHTAR\n",
      "My name is IMRAN AKHTAR\n",
      "My name is IMRAN AKHTAR\n"
     ]
    }
   ],
   "source": [
    "#named index\n",
    "\n",
    "a11 = \"My name is {f_name} {L_name}\".format(f_name=\"IMRAN\",L_name=\"AKHTAR\")\n",
    "\n",
    "# numbered index\n",
    "a2 = \"My name is {0} {1}\".format(\"IMRAN\",\"AKHTAR\")\n",
    "\n",
    "# empty placeholders\n",
    "a3 = \"My name is {} {}\".format(\"IMRAN\",\"AKHTAR\")\n",
    "print(a11)\n",
    "print(a2)\n",
    "print(a3)"
   ]
  },
  {
   "cell_type": "code",
   "execution_count": 2,
   "id": "823152c5",
   "metadata": {},
   "outputs": [
    {
     "name": "stdout",
     "output_type": "stream",
     "text": [
      "My name is AKHTAR IMRAN\n"
     ]
    }
   ],
   "source": [
    "a4 = \"My name is {1} {0}\".format(\"IMRAN\",\"AKHTAR\")\n",
    "print(a4)"
   ]
  },
  {
   "cell_type": "markdown",
   "id": "f9305576",
   "metadata": {},
   "source": [
    "# LIST"
   ]
  },
  {
   "cell_type": "code",
   "execution_count": 4,
   "id": "6cd46b96",
   "metadata": {},
   "outputs": [
    {
     "name": "stdout",
     "output_type": "stream",
     "text": [
      "3\n",
      "<class 'list'>\n"
     ]
    }
   ],
   "source": [
    "l = [1,2,3,4,5]\n",
    "print(l[2])\n",
    "print(type(l))\n"
   ]
  },
  {
   "cell_type": "code",
   "execution_count": 6,
   "id": "689ddbe3",
   "metadata": {},
   "outputs": [
    {
     "name": "stdout",
     "output_type": "stream",
     "text": [
      "6\n"
     ]
    }
   ],
   "source": [
    "#nested list\n",
    "l = [1,2,3,[4,5,6]]\n",
    "print(l[3][2])"
   ]
  },
  {
   "cell_type": "code",
   "execution_count": 18,
   "id": "b6c4ad77",
   "metadata": {},
   "outputs": [
    {
     "name": "stdout",
     "output_type": "stream",
     "text": [
      "IMRAN\n",
      "[2, 3]\n",
      "[3, 4, 'IMRAN', [5, 6, 7]]\n"
     ]
    }
   ],
   "source": [
    "#mix list \n",
    "l = [2,3,4,\"IMRAN\",[5,6,7]]\n",
    "print(l[3])\n",
    "\n",
    "\n",
    "#list slicing\n",
    "print(l[0:2]) # 2 mean indexing less than 2 (1)\n",
    "print(l[1:])"
   ]
  },
  {
   "cell_type": "code",
   "execution_count": 14,
   "id": "4cb94dd1",
   "metadata": {},
   "outputs": [
    {
     "name": "stdout",
     "output_type": "stream",
     "text": [
      "[1, 3, 5]\n",
      "[6, 5, 4, 3, 2, 1]\n",
      "[1, 3, 5]\n"
     ]
    }
   ],
   "source": [
    "l = [1,2,3,4,5,6,]\n",
    "print(l[0::2])\n",
    "print(l[-1::-1])\n",
    "print(l[0:5:2])"
   ]
  },
  {
   "cell_type": "code",
   "execution_count": null,
   "id": "d1b12597",
   "metadata": {},
   "outputs": [],
   "source": [
    "# startlist practice\n",
    "\n"
   ]
  },
  {
   "cell_type": "code",
   "execution_count": 34,
   "id": "8062c02c",
   "metadata": {},
   "outputs": [
    {
     "name": "stdout",
     "output_type": "stream",
     "text": [
      "<class 'list'> 2376388813120\n",
      "50 imran\n",
      "[10, 40, 'imran']\n",
      "[10, 40]\n",
      "['imran', 40, 10]\n",
      "[]\n"
     ]
    }
   ],
   "source": [
    "#list slicing\n",
    "l = [10,30,40,50,\"imran\"]\n",
    "print(type(l),id(l))\n",
    "# print(id(l))\n",
    "\n",
    "print(l[3],l[4])\n",
    "\n",
    "print(l[0::2])\n",
    "\n",
    "print(l[0:3:2])\n",
    "\n",
    "print(l[-1::-2])\n",
    "\n",
    "print(l[-1::])"
   ]
  },
  {
   "cell_type": "code",
   "execution_count": 49,
   "id": "cb9f0ffc",
   "metadata": {},
   "outputs": [
    {
     "name": "stdout",
     "output_type": "stream",
     "text": [
      "10\n",
      "20\n",
      "30\n",
      "50\n",
      "60\n"
     ]
    }
   ],
   "source": [
    "#list iiteration \n",
    "l = [10,20,30,50,60]\n",
    "# for a in l:\n",
    "#     print(a)\n",
    "    \n",
    "    \n",
    "t = len(l)\n",
    "for i in range(t):\n",
    "    print(l[i])\n"
   ]
  },
  {
   "cell_type": "code",
   "execution_count": 54,
   "id": "906f85c7",
   "metadata": {},
   "outputs": [
    {
     "name": "stdout",
     "output_type": "stream",
     "text": [
      "60\n",
      "50\n",
      "30\n",
      "20\n",
      "10\n"
     ]
    }
   ],
   "source": [
    "# reverce order\n",
    "l = [10,20,30,50,60]\n",
    "t = len(l) # 5\n",
    "for i in range(t-1,-1,-1):\n",
    "    print(l[i])"
   ]
  },
  {
   "cell_type": "code",
   "execution_count": null,
   "id": "d72aa8ed",
   "metadata": {},
   "outputs": [],
   "source": [
    "# list oteration \n",
    "l = []"
   ]
  },
  {
   "cell_type": "code",
   "execution_count": null,
   "id": "6035015c",
   "metadata": {},
   "outputs": [],
   "source": []
  },
  {
   "cell_type": "code",
   "execution_count": null,
   "id": "e9bacf56",
   "metadata": {},
   "outputs": [],
   "source": []
  },
  {
   "cell_type": "code",
   "execution_count": null,
   "id": "dfcf68ea",
   "metadata": {},
   "outputs": [],
   "source": []
  },
  {
   "cell_type": "code",
   "execution_count": null,
   "id": "f628bc6f",
   "metadata": {},
   "outputs": [],
   "source": []
  }
 ],
 "metadata": {
  "kernelspec": {
   "display_name": "Python 3 (ipykernel)",
   "language": "python",
   "name": "python3"
  },
  "language_info": {
   "codemirror_mode": {
    "name": "ipython",
    "version": 3
   },
   "file_extension": ".py",
   "mimetype": "text/x-python",
   "name": "python",
   "nbconvert_exporter": "python",
   "pygments_lexer": "ipython3",
   "version": "3.11.4"
  }
 },
 "nbformat": 4,
 "nbformat_minor": 5
}
